{
 "cells": [
  {
   "cell_type": "code",
   "execution_count": 1,
   "id": "ca26ed01",
   "metadata": {},
   "outputs": [],
   "source": [
    "# Initialization\n",
    "\n",
    "%matplotlib inline\n",
    "import matplotlib.pyplot as plt, numpy as np, pandas as pd\n",
    "from IPython.display import display\n",
    "from lesson1 import figure"
   ]
  },
  {
   "cell_type": "markdown",
   "id": "aacf927e",
   "metadata": {},
   "source": [
    "1) Interpolation\n",
    "\n",
    "Misc"
   ]
  },
  {
   "cell_type": "markdown",
   "id": "3cb2d981",
   "metadata": {},
   "source": [
    "# 1) Interpolation\n",
    "When only a limited set of discrete values $(x_i, y_i)$ are available, the original continuous signal $y(x)$ may be approximated at intermediate values $x$ by interpolation. \n",
    "\n",
    "**Polynomial functions** for short signals.<br>\n",
    "**Piecewise functions** for long signals.<br>\n",
    "**Trigonometric function** for quasi-periodic signals.\n",
    "\n",
    "\n",
    "- a) Polynomial; global interpolation: uses all $n$ data points.\n",
    "- b) Spline/piecewise; local interpolation: uses a subset of nearby points.\n",
    "\n",
    "When to use what? <br>\n",
    "High-degree polynomials result in unfaithful interpolation due to Runge's phenomenon. The use of a **piecewise polynomial** also known as a **spline**, allows the degree of employed polynomials to be reduced. Oscillations are much reduced."
   ]
  },
  {
   "cell_type": "markdown",
   "id": "3cc2d079",
   "metadata": {},
   "source": [
    "### a) Polynomial \n",
    "\n",
    "$$\n",
    "y(x) = a_p \\cdot x^p + a_{p-1} \\cdot x^{p-1} + \\ldots + a_2 \\cdot x^2 + a_1 \\cdot x + a_0\n",
    "$$\n",
    "\n",
    "\n",
    "- If interpolated data containes negative values that are unrealistic, model the logarithm, $log(y)$, as a polynomial function of $x$.\n"
   ]
  },
  {
   "cell_type": "code",
   "execution_count": 7,
   "id": "ad59c7a6",
   "metadata": {},
   "outputs": [],
   "source": [
    "xi = np.arange(3, 24, 2)\n",
    "yi = np.array([\n",
    "    92, 7, 16, 885, 849,\n",
    "    1399, 1590, 1261, 5690, 670, 3271\n",
    "])"
   ]
  },
  {
   "cell_type": "markdown",
   "id": "10fe7373",
   "metadata": {},
   "source": [
    "#### i) lagrange"
   ]
  },
  {
   "cell_type": "code",
   "execution_count": 6,
   "id": "2acb347e",
   "metadata": {},
   "outputs": [
    {
     "data": {
      "text/plain": [
       "1000.3715858738869"
      ]
     },
     "execution_count": 6,
     "metadata": {},
     "output_type": "execute_result"
    }
   ],
   "source": [
    "from scipy.interpolate import lagrange\n",
    "\"\"\"\n",
    "f.c will return the polynomial coefficients [a_p, ..., a_1, a_0]\n",
    "\"\"\"\n",
    "\n",
    "f = lagrange(xi, yi) \n",
    "f(12) "
   ]
  },
  {
   "cell_type": "markdown",
   "id": "3ba007f0",
   "metadata": {},
   "source": [
    "#### ii) vander_interpolate"
   ]
  },
  {
   "cell_type": "code",
   "execution_count": 12,
   "id": "43686d25",
   "metadata": {},
   "outputs": [],
   "source": [
    "def vander_interpolate(xi, yi, x):\n",
    "    \"\"\"y = vander_interpolate(xi, yi, x).\n",
    "    Vandermonde interpolation method that fits a\n",
    "    polynomial of degree n-1 through n data points\n",
    "    {xi,yi}, evaluated at arguments x.\n",
    "    xi     = {x1,x2,...,xn}\n",
    "    yi     = {y1,y2,...,xn}\n",
    "    x      = arguments x\n",
    "    \"\"\"\n",
    "    if xi.size != yi.size:\n",
    "        raise ValueError('xi and yi must have the same length')\n",
    "    \n",
    "    xi = xi.astype('float64')\n",
    "    yi = yi.astype('float64')\n",
    "    \n",
    "    X = np.vander(xi)\n",
    "    a = np.linalg.solve(X, yi)\n",
    "    \n",
    "    y = np.polyval(a, x)\n",
    "    \n",
    "    return y"
   ]
  },
  {
   "cell_type": "code",
   "execution_count": 14,
   "id": "4637f4ca",
   "metadata": {},
   "outputs": [],
   "source": [
    "def rational_interpolate(xi, yi, x, *, p=None, q=None):\n",
    "    \"\"\"\n",
    "    Benefit: typically smoother and less oscillatory than polynomials \n",
    "    and are not required to go to infinity for extreme values of x.\n",
    "    Downside: can introduce undesirable asymptotes in the fit.\n",
    "    \n",
    "    y = rational_interpolate(xi, yi, x, *, p=None, q=None).\n",
    "    Rational interpolation method that fits a rational\n",
    "    function of polynomial degrees p and q through n data\n",
    "    points {xi,yi}, evaluated at arguments x. If neither p\n",
    "    nor q are provided, a diagonal rational function is used.\n",
    "    xi     = {x1,x2,...,xn}\n",
    "    yi     = {y1,y2,...,xn}\n",
    "    x      = arguments x\n",
    "    p      = polynomial degree numerator\n",
    "    q      = polynomial degree denominator\n",
    "    \"\"\"\n",
    "    if p is None:\n",
    "        if q is None:\n",
    "            q = yi.size // 2\n",
    "        p = yi.size - q - 1\n",
    "    elif q is None:\n",
    "        q = yi.size - p - 1\n",
    "    if xi.size != yi.size:\n",
    "        raise ValueError('xi and yi must have the same length')\n",
    "    if yi.size != p + q + 1:\n",
    "        raise ValueError('number of data points must equal p+q+1')\n",
    "        \n",
    "    xi = xi.astype('float64')\n",
    "    yi = yi.astype('float64')\n",
    "    \n",
    "    n = p + q + 1\n",
    "    X = np.zeros((n, n))\n",
    "\n",
    "    # index 0-based, all columns set to 1\n",
    "    middle = p\n",
    "    \n",
    "    # create p-degree values\n",
    "    p_vals = []\n",
    "    for val in xi:\n",
    "        temp = []\n",
    "        for degree in range(p, 0, -1):\n",
    "            p_val = val**degree\n",
    "            temp.append(p_val)\n",
    "\n",
    "        p_vals.append(temp)\n",
    "\n",
    "    p_vals = np.array(p_vals)\n",
    "    \n",
    "    # create q-degree values\n",
    "    q_vals = []\n",
    "    for _x, _y in zip(xi, yi):\n",
    "        temp = []\n",
    "        for degree in range(q, 0, -1):\n",
    "            q_val = -1 * (_x**degree * _y)\n",
    "            temp.append(q_val)\n",
    "\n",
    "        q_vals.append(temp)\n",
    "\n",
    "    q_vals = np.array(q_vals)\n",
    "\n",
    "    X[:, middle] = 1\n",
    "    X[:, :p] = p_vals\n",
    "    X[:, middle+1:] = q_vals\n",
    "    \n",
    "    coef = np.dot(np.linalg.inv(X), yi)\n",
    "        \n",
    "    a = coef[:p]\n",
    "    mid = coef[p]\n",
    "    b = coef[p+1:]\n",
    "\n",
    "    p_vander = np.vander(x, p+1)[:, :-1]\n",
    "    q_vander = np.vander(x, q+1)[:, :-1]\n",
    "\n",
    "    y = ((a * p_vander).sum(axis=1) + mid) / ((b * q_vander).sum(axis=1) + 1)    \n",
    "    return y"
   ]
  },
  {
   "cell_type": "markdown",
   "id": "9bc1a695",
   "metadata": {},
   "source": [
    "## b) Spline/piecewise\n",
    "The coefficients of the piecewise polynomials $a_{ij}$ can be fixed by imposing a series of *continuity constraints*.\n",
    "\n",
    "1. **Left-continuity:** At $x_i$, the polynomial $p_i(x)$ should evaluate to $y_i$.<br />\n",
    "   I.e., each segment should connect to the data point $(x_i, y_i)$ on the left.\n",
    "\n",
    "2. **Right-continuity:** At $x_{i+1}$, the polynomial $p_i(x)$ should evaluate to $y_{i+1}$.<br />\n",
    "   I.e., each segment should connect to the data point $(x_{i+1}, y_{i+1})$ on the right.\n",
    "\n",
    "3. **Straightness:** At $x_i$, the 1<sup>st</sup> derivative of the left polynomial $\\frac{\\text{d}}{\\text{d}x} p_{i-1}(x)$ should match the 1<sup>st</sup> derivative of the right polynomial $\\frac{\\text{d}}{\\text{d}x} p_i(x)$.<br />\n",
    "   I.e., the segments should connect in a straight fashion.\n",
    "\n",
    "4. **Smoothness:** At $x_i$, the 2<sup>nd</sup> derivative of the left polynomial $\\frac{\\text{d}^2}{\\text{d}x^2} p_{i-1}(x)$ should match the 2<sup>nd</sup> derivative of the right polynomial $\\frac{\\text{d}^2}{\\text{d}x^2} p_i(x)$.<br />\n",
    "   I.e., the segments should connect in a smooth fashion.\n",
    "   \n",
    "   \n",
    "* A zero spline is fully defined by the first constraint alone.<br />\n",
    "  It generally does not satisfy the other constraints: the interpolant is discontinuous.\n",
    "\n",
    "* A linear spline is fully defined by the first and second constraints.<br />\n",
    "  It generally does not satisfy the straightness and smoothness constraints: the interpolant is continuous but its slope is not.\n",
    "\n",
    "* A quadratic spline is fully defined by the first to third constraints.<br />\n",
    "  It generally does not satisfy the smoothness constraint: the interpolant's slope is continuous but its curvature is not.\n",
    "\n",
    "* A cubic spline is fully defined by the first to fourth constraints.<br />\n",
    "  The interpolant's slope and curvature are continuous.\n"
   ]
  },
  {
   "cell_type": "markdown",
   "id": "3d11c83a",
   "metadata": {},
   "source": [
    "#### i) interp1d"
   ]
  },
  {
   "cell_type": "code",
   "execution_count": 11,
   "id": "9ac587ca",
   "metadata": {},
   "outputs": [
    {
     "data": {
      "text/plain": [
       "array(1029.30950272)"
      ]
     },
     "execution_count": 11,
     "metadata": {},
     "output_type": "execute_result"
    }
   ],
   "source": [
    "from scipy.interpolate import interp1d\n",
    "\"\"\"\n",
    "Kind: [linear, nearest, zero, linear, quadratic, cubic, ...]\n",
    "fill value: used for extrapolation\n",
    "\"\"\"\n",
    "f = interp1d(xi, yi, kind='cubic', fill_value='extrapolate')\n",
    "f(12)"
   ]
  },
  {
   "cell_type": "markdown",
   "id": "13afdadc",
   "metadata": {},
   "source": [
    "**ii) Akima1DInterpolator**\n",
    "\n",
    "`Akima1DInterpolator()` fits a non-smoothing [Akima](https://en.wikipedia.org/wiki/Akima_spline) cubic spline that is able to deal more robustly with functions with rapidly varying curvature, at the cost of no longer satisfying the smoothness constraint.\n",
    "  \n",
    "<small>**Note:** this spline function does not extrapolate.</small>"
   ]
  },
  {
   "cell_type": "code",
   "execution_count": null,
   "id": "166279ac",
   "metadata": {},
   "outputs": [],
   "source": [
    "from scipy.interpolate import Akima1DInterpolator\n",
    "\n",
    "spline = Akima1DInterpolator(xi, yi)\n",
    "x = np.linspace(-5.5, 5.5, 111)\n",
    "y = spline(x)"
   ]
  },
  {
   "cell_type": "markdown",
   "id": "a49fc659",
   "metadata": {},
   "source": [
    "**iii) CubicSpline**\n",
    "\n",
    "fits a [cubic Hermite spline](https://en.wikipedia.org/wiki/Cubic_Hermite_spline) with selectable types of boundary conditions.\n",
    "\n",
    "  * `bc_type='not-a-knot'`: the first and second segment are the same polynomial.\n",
    "  \n",
    "  * `bc_type='periodic'`: the function value and its derivatives at the last knot match those at the first knot.\n",
    "  \n",
    "  * `bc_type='clamped'`: the 1<sup>st</sup> derivatives at the first and last knot equal zero.\n",
    "  \n",
    "  * `bc_type='natural'`: the 2<sup>nd</sup> derivatives at the first and last knot equal zero."
   ]
  },
  {
   "cell_type": "code",
   "execution_count": 17,
   "id": "1c64c098",
   "metadata": {},
   "outputs": [],
   "source": [
    "from scipy.interpolate import CubicSpline\n",
    "\n",
    "spline = CubicSpline(xi, yi, bc_type=bc_type)\n",
    "y = spline(x)"
   ]
  },
  {
   "cell_type": "markdown",
   "id": "56d82adc",
   "metadata": {},
   "source": [
    "**iv) PchipInterpolator**\n",
    "\n",
    "`PchipInterpolator()` fits a *Piecewise Cubic Hermite Interpolating Polynomial* spline that does not introduce additional extrema (i.e., minima or maxima) except those that coincide with knots."
   ]
  },
  {
   "cell_type": "code",
   "execution_count": 18,
   "id": "8444ecc5",
   "metadata": {},
   "outputs": [],
   "source": [
    "from scipy.interpolate import PchipInterpolator\n",
    "\n",
    "spline = PchipInterpolator(xi, yi)\n",
    "x = np.linspace(-5.5, 5.5, 111)\n",
    "y = spline(x)"
   ]
  },
  {
   "cell_type": "markdown",
   "id": "f6c61bac",
   "metadata": {},
   "source": [
    "**v) CubicHermiteSpline**\n",
    "\n",
    "`CubicHermiteSpline()` fits a cubic spline for which derivatives at knots are specified in addition to function values."
   ]
  },
  {
   "cell_type": "code",
   "execution_count": null,
   "id": "1f62bcad",
   "metadata": {},
   "outputs": [],
   "source": [
    "from scipy.interpolate import CubicHermiteSpline\n",
    "\n",
    "spline = CubicHermiteSpline(xi, yi, dyi)\n",
    "x = np.linspace(-5.5, 5.5, 111)\n",
    "y = spline(x)"
   ]
  },
  {
   "cell_type": "markdown",
   "id": "386bc9eb",
   "metadata": {},
   "source": [
    "**vi) Custom**"
   ]
  },
  {
   "cell_type": "code",
   "execution_count": null,
   "id": "adbcab46",
   "metadata": {},
   "outputs": [],
   "source": [
    "def nearest_interpolate(xi, yi, x):\n",
    "    \"\"\"\n",
    "    Alternative:  interp1d(x, y, kind='nearest')\n",
    "    \n",
    "    y = nearest_interpolate(xi, yi, x).\n",
    "    Nearest-neighbor spline interpolation method that\n",
    "    fits a piecewise polynomial of degree zero through\n",
    "    data points {xi,yi}, evaluated at arguments x.\n",
    "    xi     = {x1,x2,...,xn}\n",
    "    yi     = {y1,y2,...,xn}\n",
    "    x      = arguments x\n",
    "    \"\"\"\n",
    "    if xi.size != yi.size:\n",
    "        raise ValueError('xi and yi must have the same length')\n",
    "    \n",
    "    xi = xi.astype('float64')\n",
    "    yi = yi.astype('float64')\n",
    "    \n",
    "    order = np.argsort(xi)\n",
    "    xi, yi = xi[order], yi[order]\n",
    "    xknot = (xi[:-1] + xi[1:]) / 2.0\n",
    "    index = np.searchsorted(xknot, x)\n",
    "    y = yi[index]\n",
    "    return y\n",
    "\n",
    "def cubic_interpolate(xi, yi, x):\n",
    "    \"\"\"\n",
    "    Uniformly weighted cubic spline\n",
    "    \n",
    "    y = cubic_interpolate(xi, yi, x).\n",
    "    Cubic spline interpolation method that fits a\n",
    "    piecewise polynomial of degree three through\n",
    "    data points {xi,yi}, evaluated at arguments x.\n",
    "    xi     = {x1,x2,...,xn}\n",
    "    yi     = {y1,y2,...,xn}\n",
    "    x      = arguments x\n",
    "    \"\"\"\n",
    "    if xi.size != yi.size:\n",
    "        raise ValueError('xi and yi must have the same length')\n",
    "        \n",
    "    xi = xi.astype('float64')\n",
    "    yi = yi.astype('float64')\n",
    "        \n",
    "    order = np.argsort(xi)\n",
    "    xi, yi = xi[order], yi[order]\n",
    "\n",
    "    xknots = xi\n",
    "    idx = np.searchsorted(xknots, x)\n",
    "\n",
    "    # left parabola\n",
    "    if idx-2 == -1:\n",
    "        left_par_xi = xi[idx-1:idx+1]\n",
    "        left_par_yi = yi[idx-1:idx+1]\n",
    "    elif idx-2 == -2:\n",
    "        left_par_xi = xi[idx:idx+1]\n",
    "        left_par_yi = yi[idx:idx+1]\n",
    "    else:\n",
    "        left_par_xi = xi[idx-2:idx+1]\n",
    "        left_par_yi = yi[idx-2:idx+1]\n",
    "\n",
    "    left_par_f = lagrange(left_par_xi, left_par_yi)\n",
    "    left_par_x = left_par_f(x) \n",
    "\n",
    "    # right parabola\n",
    "    right_par_xi = xi[idx-1:idx+2]\n",
    "    right_par_yi = yi[idx-1:idx+2]\n",
    "\n",
    "    right_par_f = lagrange(right_par_xi, right_par_yi)\n",
    "    right_par_x = right_par_f(x) \n",
    "\n",
    "    # calculate applicable weight for left and right\n",
    "    left_weight = xi[idx] - x \n",
    "    right_weight = x - xi[idx-1] \n",
    "\n",
    "    # uniform weight\n",
    "    y = 0.5 * left_par_x + 0.5 * right_par_x\n",
    "    \n",
    "    return y"
   ]
  },
  {
   "cell_type": "markdown",
   "id": "740cc056",
   "metadata": {},
   "source": [
    "# Misc"
   ]
  },
  {
   "cell_type": "code",
   "execution_count": 15,
   "id": "cca2a316",
   "metadata": {},
   "outputs": [],
   "source": [
    "def P(n):\n",
    "    \"\"\"Square pyramidal numbers\"\"\"\n",
    "    t = 0\n",
    "    for k in range(n+1):\n",
    "        t += k**2\n",
    "        \n",
    "    return t\n",
    "\n",
    "def Fibonacci(n):\n",
    "    \"\"\"Fibonacci sequence\"\"\"\n",
    "    if n < 0:\n",
    "        print(\"Incorrect input\")\n",
    "    elif n == 0:\n",
    "        return 0\n",
    "    elif n == 1 or n == 2:\n",
    "        return 1\n",
    " \n",
    "    else:\n",
    "        return Fibonacci(n-1) + Fibonacci(n-2)\n",
    "    \n",
    "def factorial(n):\n",
    "    total = 1\n",
    "    for k in range(1, n+1):\n",
    "        total *= k\n",
    "        \n",
    "    return total\n",
    "\n",
    "def C(n):\n",
    "    \"\"\"Catalan numbers\"\"\"\n",
    "    if n == 0 or n == 1:\n",
    "        return 1\n",
    "    \n",
    "    total = 1\n",
    "    for k in range(2, n+1):\n",
    "        total *= (n+k)/k\n",
    "        \n",
    "    return total\n"
   ]
  },
  {
   "cell_type": "code",
   "execution_count": null,
   "id": "5a070d4d",
   "metadata": {},
   "outputs": [],
   "source": []
  }
 ],
 "metadata": {
  "kernelspec": {
   "display_name": "Python 3 (ipykernel)",
   "language": "python",
   "name": "python3"
  },
  "language_info": {
   "codemirror_mode": {
    "name": "ipython",
    "version": 3
   },
   "file_extension": ".py",
   "mimetype": "text/x-python",
   "name": "python",
   "nbconvert_exporter": "python",
   "pygments_lexer": "ipython3",
   "version": "3.9.7"
  }
 },
 "nbformat": 4,
 "nbformat_minor": 5
}
