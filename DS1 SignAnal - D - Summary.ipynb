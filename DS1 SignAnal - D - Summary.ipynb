{
 "cells": [
  {
   "cell_type": "code",
   "execution_count": 2,
   "id": "ca26ed01",
   "metadata": {},
   "outputs": [],
   "source": [
    "# Initialization\n",
    "\n",
    "%matplotlib inline\n",
    "import matplotlib.pyplot as plt, numpy as np, pandas as pd\n",
    "from IPython.display import display\n",
    "from lesson1 import figure"
   ]
  },
  {
   "cell_type": "markdown",
   "id": "aacf927e",
   "metadata": {},
   "source": [
    "1) Interpolation: fit a function $y(x)$ through a set of data $(x_i, y_i)$ in such a way that $y(x_i)$ exactly reproduces $x_i$. \n",
    "\n",
    "2) Curve fitting: allow the function $y(x)$ to approximate a set of data $(x_i, y_i)$ such that $y(x_i) \\approx y_i$\n",
    "\n",
    "3) Discrete Fourier Transform\n",
    "\n",
    "Misc"
   ]
  },
  {
   "cell_type": "markdown",
   "id": "3cb2d981",
   "metadata": {},
   "source": [
    "# 1) Interpolation\n",
    "When only a limited set of discrete values $(x_i, y_i)$ are available, the original continuous signal $y(x)$ may be approximated at intermediate values $x$ by interpolation. \n",
    "\n",
    "**Polynomial functions** for short signals.<br>\n",
    "**Piecewise functions** for long signals.<br>\n",
    "**Trigonometric function** for quasi-periodic signals.\n",
    "\n",
    "\n",
    "- a) Polynomial; global interpolation: uses all $n$ data points.\n",
    "- b) Spline/piecewise; local interpolation: uses a subset of nearby points.\n",
    "\n",
    "When to use what? <br>\n",
    "High-degree polynomials result in unfaithful interpolation due to Runge's phenomenon. The use of a **piecewise polynomial** also known as a **spline**, allows the degree of employed polynomials to be reduced. Oscillations are much reduced."
   ]
  },
  {
   "cell_type": "markdown",
   "id": "3cc2d079",
   "metadata": {},
   "source": [
    "### a) Polynomial \n",
    "\n",
    "$$\n",
    "y(x) = a_p \\cdot x^p + a_{p-1} \\cdot x^{p-1} + \\ldots + a_2 \\cdot x^2 + a_1 \\cdot x + a_0\n",
    "$$\n",
    "\n",
    "\n",
    "- If interpolated data containes negative values that are unrealistic, model the logarithm, $log(y)$, as a polynomial function of $x$.\n"
   ]
  },
  {
   "cell_type": "code",
   "execution_count": 7,
   "id": "ad59c7a6",
   "metadata": {},
   "outputs": [],
   "source": [
    "xi = np.arange(3, 24, 2)\n",
    "yi = np.array([\n",
    "    92, 7, 16, 885, 849,\n",
    "    1399, 1590, 1261, 5690, 670, 3271\n",
    "])"
   ]
  },
  {
   "cell_type": "markdown",
   "id": "10fe7373",
   "metadata": {},
   "source": [
    "#### i) lagrange"
   ]
  },
  {
   "cell_type": "code",
   "execution_count": 6,
   "id": "2acb347e",
   "metadata": {},
   "outputs": [
    {
     "data": {
      "text/plain": [
       "1000.3715858738869"
      ]
     },
     "execution_count": 6,
     "metadata": {},
     "output_type": "execute_result"
    }
   ],
   "source": [
    "from scipy.interpolate import lagrange\n",
    "\"\"\"\n",
    "f.c will return the polynomial coefficients [a_p, ..., a_1, a_0]\n",
    "\"\"\"\n",
    "\n",
    "f = lagrange(xi, yi) \n",
    "f(12) "
   ]
  },
  {
   "cell_type": "markdown",
   "id": "3ba007f0",
   "metadata": {},
   "source": [
    "#### ii) vander_interpolate"
   ]
  },
  {
   "cell_type": "code",
   "execution_count": 12,
   "id": "43686d25",
   "metadata": {},
   "outputs": [],
   "source": [
    "def vander_interpolate(xi, yi, x):\n",
    "    \"\"\"y = vander_interpolate(xi, yi, x).\n",
    "    Vandermonde interpolation method that fits a\n",
    "    polynomial of degree n-1 through n data points\n",
    "    {xi,yi}, evaluated at arguments x.\n",
    "    xi     = {x1,x2,...,xn}\n",
    "    yi     = {y1,y2,...,xn}\n",
    "    x      = arguments x\n",
    "    \"\"\"\n",
    "    if xi.size != yi.size:\n",
    "        raise ValueError('xi and yi must have the same length')\n",
    "    \n",
    "    xi = xi.astype('float64')\n",
    "    yi = yi.astype('float64')\n",
    "    \n",
    "    X = np.vander(xi)\n",
    "    a = np.linalg.solve(X, yi)\n",
    "    \n",
    "    y = np.polyval(a, x)\n",
    "    \n",
    "    return y"
   ]
  },
  {
   "cell_type": "code",
   "execution_count": 14,
   "id": "4637f4ca",
   "metadata": {},
   "outputs": [],
   "source": [
    "def rational_interpolate(xi, yi, x, *, p=None, q=None):\n",
    "    \"\"\"\n",
    "    Benefit: typically smoother and less oscillatory than polynomials \n",
    "    and are not required to go to infinity for extreme values of x.\n",
    "    Downside: can introduce undesirable asymptotes in the fit.\n",
    "    \n",
    "    y = rational_interpolate(xi, yi, x, *, p=None, q=None).\n",
    "    Rational interpolation method that fits a rational\n",
    "    function of polynomial degrees p and q through n data\n",
    "    points {xi,yi}, evaluated at arguments x. If neither p\n",
    "    nor q are provided, a diagonal rational function is used.\n",
    "    xi     = {x1,x2,...,xn}\n",
    "    yi     = {y1,y2,...,xn}\n",
    "    x      = arguments x\n",
    "    p      = polynomial degree numerator\n",
    "    q      = polynomial degree denominator\n",
    "    \"\"\"\n",
    "    if p is None:\n",
    "        if q is None:\n",
    "            q = yi.size // 2\n",
    "        p = yi.size - q - 1\n",
    "    elif q is None:\n",
    "        q = yi.size - p - 1\n",
    "    if xi.size != yi.size:\n",
    "        raise ValueError('xi and yi must have the same length')\n",
    "    if yi.size != p + q + 1:\n",
    "        raise ValueError('number of data points must equal p+q+1')\n",
    "        \n",
    "    xi = xi.astype('float64')\n",
    "    yi = yi.astype('float64')\n",
    "    \n",
    "    n = p + q + 1\n",
    "    X = np.zeros((n, n))\n",
    "\n",
    "    # index 0-based, all columns set to 1\n",
    "    middle = p\n",
    "    \n",
    "    # create p-degree values\n",
    "    p_vals = []\n",
    "    for val in xi:\n",
    "        temp = []\n",
    "        for degree in range(p, 0, -1):\n",
    "            p_val = val**degree\n",
    "            temp.append(p_val)\n",
    "\n",
    "        p_vals.append(temp)\n",
    "\n",
    "    p_vals = np.array(p_vals)\n",
    "    \n",
    "    # create q-degree values\n",
    "    q_vals = []\n",
    "    for _x, _y in zip(xi, yi):\n",
    "        temp = []\n",
    "        for degree in range(q, 0, -1):\n",
    "            q_val = -1 * (_x**degree * _y)\n",
    "            temp.append(q_val)\n",
    "\n",
    "        q_vals.append(temp)\n",
    "\n",
    "    q_vals = np.array(q_vals)\n",
    "\n",
    "    X[:, middle] = 1\n",
    "    X[:, :p] = p_vals\n",
    "    X[:, middle+1:] = q_vals\n",
    "    \n",
    "    coef = np.dot(np.linalg.inv(X), yi)\n",
    "        \n",
    "    a = coef[:p]\n",
    "    mid = coef[p]\n",
    "    b = coef[p+1:]\n",
    "\n",
    "    p_vander = np.vander(x, p+1)[:, :-1]\n",
    "    q_vander = np.vander(x, q+1)[:, :-1]\n",
    "\n",
    "    y = ((a * p_vander).sum(axis=1) + mid) / ((b * q_vander).sum(axis=1) + 1)    \n",
    "    return y"
   ]
  },
  {
   "cell_type": "markdown",
   "id": "9bc1a695",
   "metadata": {},
   "source": [
    "## b) Spline/piecewise\n",
    "The coefficients of the piecewise polynomials $a_{ij}$ can be fixed by imposing a series of *continuity constraints*.\n",
    "\n",
    "1. **Left-continuity:** At $x_i$, the polynomial $p_i(x)$ should evaluate to $y_i$.<br />\n",
    "   I.e., each segment should connect to the data point $(x_i, y_i)$ on the left.\n",
    "\n",
    "2. **Right-continuity:** At $x_{i+1}$, the polynomial $p_i(x)$ should evaluate to $y_{i+1}$.<br />\n",
    "   I.e., each segment should connect to the data point $(x_{i+1}, y_{i+1})$ on the right.\n",
    "\n",
    "3. **Straightness:** At $x_i$, the 1<sup>st</sup> derivative of the left polynomial $\\frac{\\text{d}}{\\text{d}x} p_{i-1}(x)$ should match the 1<sup>st</sup> derivative of the right polynomial $\\frac{\\text{d}}{\\text{d}x} p_i(x)$.<br />\n",
    "   I.e., the segments should connect in a straight fashion.\n",
    "\n",
    "4. **Smoothness:** At $x_i$, the 2<sup>nd</sup> derivative of the left polynomial $\\frac{\\text{d}^2}{\\text{d}x^2} p_{i-1}(x)$ should match the 2<sup>nd</sup> derivative of the right polynomial $\\frac{\\text{d}^2}{\\text{d}x^2} p_i(x)$.<br />\n",
    "   I.e., the segments should connect in a smooth fashion.\n",
    "   \n",
    "   \n",
    "* A zero spline is fully defined by the first constraint alone.<br />\n",
    "  It generally does not satisfy the other constraints: the interpolant is discontinuous.\n",
    "\n",
    "* A linear spline is fully defined by the first and second constraints.<br />\n",
    "  It generally does not satisfy the straightness and smoothness constraints: the interpolant is continuous but its slope is not.\n",
    "\n",
    "* A quadratic spline is fully defined by the first to third constraints.<br />\n",
    "  It generally does not satisfy the smoothness constraint: the interpolant's slope is continuous but its curvature is not.\n",
    "\n",
    "* A cubic spline is fully defined by the first to fourth constraints.<br />\n",
    "  The interpolant's slope and curvature are continuous.\n"
   ]
  },
  {
   "cell_type": "markdown",
   "id": "3d11c83a",
   "metadata": {},
   "source": [
    "#### i) interp1d"
   ]
  },
  {
   "cell_type": "code",
   "execution_count": 11,
   "id": "9ac587ca",
   "metadata": {},
   "outputs": [
    {
     "data": {
      "text/plain": [
       "array(1029.30950272)"
      ]
     },
     "execution_count": 11,
     "metadata": {},
     "output_type": "execute_result"
    }
   ],
   "source": [
    "from scipy.interpolate import interp1d\n",
    "\"\"\"\n",
    "Kind: [linear, nearest, zero, linear, quadratic, cubic, ...]\n",
    "fill value: used for extrapolation\n",
    "\"\"\"\n",
    "f = interp1d(xi, yi, kind='cubic', fill_value='extrapolate')\n",
    "f(12)"
   ]
  },
  {
   "cell_type": "markdown",
   "id": "13afdadc",
   "metadata": {},
   "source": [
    "**ii) Akima1DInterpolator**\n",
    "\n",
    "`Akima1DInterpolator()` fits a non-smoothing [Akima](https://en.wikipedia.org/wiki/Akima_spline) cubic spline that is able to deal more robustly with functions with rapidly varying curvature, at the cost of no longer satisfying the smoothness constraint.\n",
    "  \n",
    "<small>**Note:** this spline function does not extrapolate.</small>"
   ]
  },
  {
   "cell_type": "code",
   "execution_count": null,
   "id": "166279ac",
   "metadata": {},
   "outputs": [],
   "source": [
    "from scipy.interpolate import Akima1DInterpolator\n",
    "\n",
    "spline = Akima1DInterpolator(xi, yi)\n",
    "x = np.linspace(-5.5, 5.5, 111)\n",
    "y = spline(x)"
   ]
  },
  {
   "cell_type": "markdown",
   "id": "a49fc659",
   "metadata": {},
   "source": [
    "**iii) CubicSpline**\n",
    "\n",
    "fits a [cubic Hermite spline](https://en.wikipedia.org/wiki/Cubic_Hermite_spline) with selectable types of boundary conditions.\n",
    "\n",
    "  * `bc_type='not-a-knot'`: the first and second segment are the same polynomial.\n",
    "  \n",
    "  * `bc_type='periodic'`: the function value and its derivatives at the last knot match those at the first knot.\n",
    "  \n",
    "  * `bc_type='clamped'`: the 1<sup>st</sup> derivatives at the first and last knot equal zero.\n",
    "  \n",
    "  * `bc_type='natural'`: the 2<sup>nd</sup> derivatives at the first and last knot equal zero."
   ]
  },
  {
   "cell_type": "code",
   "execution_count": 17,
   "id": "1c64c098",
   "metadata": {},
   "outputs": [],
   "source": [
    "from scipy.interpolate import CubicSpline\n",
    "\n",
    "spline = CubicSpline(xi, yi, bc_type=bc_type)\n",
    "y = spline(x)"
   ]
  },
  {
   "cell_type": "markdown",
   "id": "56d82adc",
   "metadata": {},
   "source": [
    "**iv) PchipInterpolator**\n",
    "\n",
    "`PchipInterpolator()` fits a *Piecewise Cubic Hermite Interpolating Polynomial* spline that does not introduce additional extrema (i.e., minima or maxima) except those that coincide with knots."
   ]
  },
  {
   "cell_type": "code",
   "execution_count": 18,
   "id": "8444ecc5",
   "metadata": {},
   "outputs": [],
   "source": [
    "from scipy.interpolate import PchipInterpolator\n",
    "\n",
    "spline = PchipInterpolator(xi, yi)\n",
    "x = np.linspace(-5.5, 5.5, 111)\n",
    "y = spline(x)"
   ]
  },
  {
   "cell_type": "markdown",
   "id": "f6c61bac",
   "metadata": {},
   "source": [
    "**v) CubicHermiteSpline**\n",
    "\n",
    "`CubicHermiteSpline()` fits a cubic spline for which derivatives at knots are specified in addition to function values."
   ]
  },
  {
   "cell_type": "code",
   "execution_count": null,
   "id": "1f62bcad",
   "metadata": {},
   "outputs": [],
   "source": [
    "from scipy.interpolate import CubicHermiteSpline\n",
    "\n",
    "spline = CubicHermiteSpline(xi, yi, dyi)\n",
    "x = np.linspace(-5.5, 5.5, 111)\n",
    "y = spline(x)"
   ]
  },
  {
   "cell_type": "markdown",
   "id": "386bc9eb",
   "metadata": {},
   "source": [
    "**vi) Custom**"
   ]
  },
  {
   "cell_type": "code",
   "execution_count": null,
   "id": "adbcab46",
   "metadata": {},
   "outputs": [],
   "source": [
    "def nearest_interpolate(xi, yi, x):\n",
    "    \"\"\"\n",
    "    Alternative:  interp1d(x, y, kind='nearest')\n",
    "    \n",
    "    y = nearest_interpolate(xi, yi, x).\n",
    "    Nearest-neighbor spline interpolation method that\n",
    "    fits a piecewise polynomial of degree zero through\n",
    "    data points {xi,yi}, evaluated at arguments x.\n",
    "    xi     = {x1,x2,...,xn}\n",
    "    yi     = {y1,y2,...,xn}\n",
    "    x      = arguments x\n",
    "    \"\"\"\n",
    "    if xi.size != yi.size:\n",
    "        raise ValueError('xi and yi must have the same length')\n",
    "    \n",
    "    xi = xi.astype('float64')\n",
    "    yi = yi.astype('float64')\n",
    "    \n",
    "    order = np.argsort(xi)\n",
    "    xi, yi = xi[order], yi[order]\n",
    "    xknot = (xi[:-1] + xi[1:]) / 2.0\n",
    "    index = np.searchsorted(xknot, x)\n",
    "    y = yi[index]\n",
    "    return y\n",
    "\n",
    "def cubic_interpolate(xi, yi, x):\n",
    "    \"\"\"\n",
    "    Uniformly weighted cubic spline\n",
    "    \n",
    "    y = cubic_interpolate(xi, yi, x).\n",
    "    Cubic spline interpolation method that fits a\n",
    "    piecewise polynomial of degree three through\n",
    "    data points {xi,yi}, evaluated at arguments x.\n",
    "    xi     = {x1,x2,...,xn}\n",
    "    yi     = {y1,y2,...,xn}\n",
    "    x      = arguments x\n",
    "    \"\"\"\n",
    "    if xi.size != yi.size:\n",
    "        raise ValueError('xi and yi must have the same length')\n",
    "        \n",
    "    xi = xi.astype('float64')\n",
    "    yi = yi.astype('float64')\n",
    "        \n",
    "    order = np.argsort(xi)\n",
    "    xi, yi = xi[order], yi[order]\n",
    "\n",
    "    xknots = xi\n",
    "    idx = np.searchsorted(xknots, x)\n",
    "\n",
    "    # left parabola\n",
    "    if idx-2 == -1:\n",
    "        left_par_xi = xi[idx-1:idx+1]\n",
    "        left_par_yi = yi[idx-1:idx+1]\n",
    "    elif idx-2 == -2:\n",
    "        left_par_xi = xi[idx:idx+1]\n",
    "        left_par_yi = yi[idx:idx+1]\n",
    "    else:\n",
    "        left_par_xi = xi[idx-2:idx+1]\n",
    "        left_par_yi = yi[idx-2:idx+1]\n",
    "\n",
    "    left_par_f = lagrange(left_par_xi, left_par_yi)\n",
    "    left_par_x = left_par_f(x) \n",
    "\n",
    "    # right parabola\n",
    "    right_par_xi = xi[idx-1:idx+2]\n",
    "    right_par_yi = yi[idx-1:idx+2]\n",
    "\n",
    "    right_par_f = lagrange(right_par_xi, right_par_yi)\n",
    "    right_par_x = right_par_f(x) \n",
    "\n",
    "    # calculate applicable weight for left and right\n",
    "    left_weight = xi[idx] - x \n",
    "    right_weight = x - xi[idx-1] \n",
    "\n",
    "    # uniform weight\n",
    "    y = 0.5 * left_par_x + 0.5 * right_par_x\n",
    "    \n",
    "    return y"
   ]
  },
  {
   "cell_type": "markdown",
   "id": "9da458b7",
   "metadata": {},
   "source": [
    "# 2) Curve fitting \n",
    "Linear regression\n",
    "\n",
    "$$\n",
    "\\left[\\begin{array}{c}\n",
    "y_1\\\\\n",
    "y_2\\\\\n",
    "\\vdots\\\\\n",
    "y_n\n",
    "\\end{array}\\right]=\\left[\\begin{array}{cccc}\n",
    "f_0(x_1) & f_1(x_1) & \\cdots & f_p(x_1) \\\\\n",
    "f_0(x_2) & f_1(x_2) & \\cdots & f_p(x_2) \\\\\n",
    "\\vdots & \\vdots & \\ddots & \\vdots\\\\\n",
    "f_0(x_n) & f_1(x_n) & \\cdots & f_p(x_n)\n",
    "\\end{array}\\right]\\left[\\begin{array}{c}\n",
    "a_0\\\\\n",
    "a_1\\\\\n",
    "\\vdots\\\\\n",
    "a_p\n",
    "\\end{array}\\right] + \\left[\\begin{array}{c}\n",
    "e_0\\\\\n",
    "e_1\\\\\n",
    "\\vdots\\\\\n",
    "e_n\n",
    "\\end{array}\\right]\n",
    "$$\n",
    "\n",
    "The general solution equals\n",
    "\n",
    "$$\n",
    "\\boldsymbol{a} = (\\boldsymbol{X}^\\text{T}\\boldsymbol{X})^{-1} \\cdot \\boldsymbol{X}^\\text{T} \\boldsymbol{y}\n",
    "$$"
   ]
  },
  {
   "cell_type": "code",
   "execution_count": 4,
   "id": "d1b4f6da",
   "metadata": {},
   "outputs": [],
   "source": [
    "months = np.arange(3, 24, 2)\n",
    "cases = np.array([\n",
    "    92, 7, 16, 885, 849,\n",
    "    1399, 1590, 1261, 5690, 670, 3271\n",
    "])"
   ]
  },
  {
   "cell_type": "markdown",
   "id": "05b8f9a7",
   "metadata": {},
   "source": [
    "#### i) np.polyfit"
   ]
  },
  {
   "cell_type": "code",
   "execution_count": 5,
   "id": "a291d9b7",
   "metadata": {},
   "outputs": [
    {
     "data": {
      "text/plain": [
       "array([ 168.46363636, -760.02727273])"
      ]
     },
     "execution_count": 5,
     "metadata": {},
     "output_type": "execute_result"
    }
   ],
   "source": [
    "coef = np.polyfit(months, cases, deg=1)\n",
    "np.polyval(coef, x)"
   ]
  },
  {
   "cell_type": "code",
   "execution_count": 6,
   "id": "3a908e59",
   "metadata": {},
   "outputs": [],
   "source": [
    "def poly_curvefit(xi, yi, x, *, deg=1):\n",
    "    \"\"\"y = poly_curvefit(xi, yi, x, *, deg=1).\n",
    "    Polynomial curve fitting method that fits a polynomial\n",
    "    of given degree through data points {xi,yi}, evaluated\n",
    "    at arguments x.\n",
    "    xi     = {x1,x2,...,xn}\n",
    "    yi     = {y1,y2,...,xn}\n",
    "    x      = arguments x\n",
    "    deg    = polynomial degree (default 1)\n",
    "    \"\"\"\n",
    "    if xi.size != yi.size:\n",
    "        raise ValueError('xi and yi must have the same length')\n",
    "    if deg >= xi.size:\n",
    "        raise ValueError('polynomial degree too high for available data')\n",
    "    \n",
    "    xi = xi.astype('float64')\n",
    "    yi = yi.astype('float64')\n",
    "    \n",
    "    X = np.vander(xi, deg+1)\n",
    "    \n",
    "    M = X.T @ X\n",
    "    v = X.T @ yi\n",
    "    \n",
    "    a = np.linalg.solve(M, v)\n",
    "    \n",
    "    y = np.polyval(a, x)\n",
    "    \n",
    "    return y"
   ]
  },
  {
   "cell_type": "markdown",
   "id": "d7bad5f1",
   "metadata": {},
   "source": [
    "**ii) design matrix and least squares**"
   ]
  },
  {
   "cell_type": "code",
   "execution_count": 5,
   "id": "f8486fb0",
   "metadata": {},
   "outputs": [
    {
     "data": {
      "text/plain": [
       "array([ 4.23167104, 45.12037022])"
      ]
     },
     "execution_count": 5,
     "metadata": {},
     "output_type": "execute_result"
    }
   ],
   "source": [
    "design = np.vstack((months**2, months)).T\n",
    "coef, *_ = np.linalg.lstsq(design, cases, rcond=None)\n",
    "coef"
   ]
  },
  {
   "cell_type": "code",
   "execution_count": null,
   "id": "0301a4fd",
   "metadata": {},
   "outputs": [],
   "source": [
    "# log \n",
    "coef = np.polyfit(months, np.log(cases), deg=1)\n",
    "f = np.poly1d(coef)\n",
    "y = np.exp(f(x))"
   ]
  },
  {
   "cell_type": "markdown",
   "id": "e246b914",
   "metadata": {},
   "source": [
    "**iii) Confidence intervals**"
   ]
  },
  {
   "cell_type": "code",
   "execution_count": 11,
   "id": "505543e7",
   "metadata": {},
   "outputs": [],
   "source": [
    "def poly_curvefit_confidence(xi, yi, x, *, deg=1, alpha=None):\n",
    "    \"\"\"y, lower, upper = poly_curvefit(xi, yi, x, *, deg=1, alpha=None).\n",
    "    Polynomial curve fitting method that fits a polynomial\n",
    "    of given degree through data points {xi,yi}, evaluated\n",
    "    at arguments x. If a confidence level is provided, the\n",
    "    lower and upper bounds of the confidence interval for\n",
    "    all y is also returned.    \n",
    "    xi     = {x1,x2,...,xn}\n",
    "    yi     = {y1,y2,...,xn}\n",
    "    x      = arguments x\n",
    "    deg    = polynomial degree (default 1)\n",
    "    alpha  = confidence level (default None)\n",
    "    \"\"\"\n",
    "    from scipy.stats import t\n",
    "    if xi.size != yi.size:\n",
    "        raise ValueError('xi and yi must have the same length')\n",
    "    if deg >= xi.size:\n",
    "        raise ValueError('polynomial degree too high for available data')\n",
    "    if alpha is not None and not 0.0 < alpha < 1.0:\n",
    "        raise ValueError('confidence level must lie between 0.0 and 1.0')\n",
    "    \n",
    "    order = deg + 1\n",
    "    \n",
    "    xi = xi + 0.0\n",
    "    yi = yi + 0.0\n",
    "    \n",
    "    X = np.vander(xi, order)\n",
    "        \n",
    "    M = X.T @ X\n",
    "    v = X.T @ yi\n",
    "\n",
    "    coef = np.linalg.solve(M, v)\n",
    "    \n",
    "    y = np.polyval(coef, x)\n",
    "    \n",
    "    if alpha is None:\n",
    "        return y\n",
    "    \n",
    "    dof = xi.size - deg - 1\n",
    "    variance = np.sum((yi - np.polyval(coef, xi)) ** 2) / dof\n",
    "    covariance = variance * np.linalg.inv(X.T @ X)\n",
    "    \n",
    "    vander = np.vander(x, order)\n",
    "    error = np.sqrt(np.sum(vander @ covariance * vander, axis=1))\n",
    "    tvalue = -t.ppf(alpha / 2.0, dof)\n",
    "    \n",
    "    return y, (y - tvalue * error), (y + tvalue * error)"
   ]
  },
  {
   "cell_type": "code",
   "execution_count": 12,
   "id": "286d35d1",
   "metadata": {},
   "outputs": [
    {
     "name": "stdout",
     "output_type": "stream",
     "text": [
      "Degree 0: y(2.000) = 3.000 ± 4.238\n",
      "Degree 1: y(2.000) = 7.000 ± 2.299\n",
      "Degree 2: y(2.000) = 7.000 ± 2.535\n",
      "Degree 3: y(2.000) = 7.000 ± 4.221\n",
      "Degree 4: y(2.000) = 7.636 ± 8.610\n",
      "Degree 5: y(2.000) = 7.636 ± 40.158\n"
     ]
    }
   ],
   "source": [
    "xi = np.array([-3, -2, -1, 0, 1, 2, 3])\n",
    "yi = np.array([-4, -1, 3, 1, 7, 7, 8])\n",
    "for i in range(6):\n",
    "    y, lowerbound, upperbound = poly_curvefit_confidence(xi, yi, [2], deg=i, alpha=0.05)\n",
    "    \n",
    "    print('Degree {}: y(2.000) = {:.3f} ± {:.3f}'.format(i, y[0], (y-lowerbound)[0]))"
   ]
  },
  {
   "cell_type": "markdown",
   "id": "e3d2c335",
   "metadata": {},
   "source": [
    "**iv) Savitsky-Golay**\n",
    "\n",
    "Curve fitting is less sensitive to Runge's phenomenon, but it may be useful to apply regression methods locally by windowing. *Distant data points should not influence the curve fit at a particular location.*\n",
    "\n",
    "The `scipy.signal` module contains the `savgol_filter()` function but it has limitations."
   ]
  },
  {
   "cell_type": "code",
   "execution_count": 14,
   "id": "ef6fc836",
   "metadata": {},
   "outputs": [],
   "source": [
    "def savgol_curvefit(xi, yi, x, *, deg=1, window=5):\n",
    "    \"\"\"y = savgol_curvefit(xi, yi, x, *, deg, window).\n",
    "    Savitsky-Golay method that fits local polynomials\n",
    "    of given degree through data points {xi,yi} that\n",
    "    fall in a window centered on x, evaluated\n",
    "    at arguments x. The window size is specified either\n",
    "    as a float indicating the half-window size, or as\n",
    "    an int indicating the number of data points.\n",
    "    xi     = {x1,x2,...,xn}\n",
    "    yi     = {y1,y2,...,xn}\n",
    "    x      = arguments x\n",
    "    deg    = polynomial degree (default 1)\n",
    "    window = window size as float/int (default 5)\n",
    "    \"\"\"\n",
    "    if xi.size != yi.size:\n",
    "        raise ValueError('xi and yi must have the same length')\n",
    "        \n",
    "    if not isinstance(x, (list, np.ndarray)):\n",
    "        raise ValueError('x must be a numpy array!')\n",
    "        \n",
    "    res = np.empty(x.size)\n",
    "    \n",
    "    xi = xi.astype('float64')\n",
    "    yi = yi.astype('float64')\n",
    "\n",
    "    order = deg + 1\n",
    "    \n",
    "    for n, val in enumerate(x):\n",
    "        # xi = [1, 2, 3, 4, 5, 6]\n",
    "        # x = 3\n",
    "        # np.abs(xi - x) -> [2, 1, 0, 1, 2, 3]\n",
    "        distance = np.abs(xi - val)\n",
    "        collection = [(i, distance[i]) for i in range(xi.size)] # [(0, 2), (1, 1), (2, 0), (3, 1), (4, 2), (5, 3)]\n",
    "        collection = sorted(collection, key=lambda x: x[1]) # [(2, 0), (1, 1), (3, 1), (0, 2), (4, 2), (5, 3)]\n",
    "    \n",
    "        # nearest neighbours\n",
    "        if isinstance(window, int):\n",
    "            x_neighbours_idx = sorted([k for k, v in collection[:window]])\n",
    "        else:\n",
    "            # half window\n",
    "            x_neighbours_idx = sorted([k for k, v in collection if v < window])\n",
    "\n",
    "        x_neighbours = [xi[key] for key in x_neighbours_idx]\n",
    "        y_neighbours = [yi[key] for key in x_neighbours_idx]\n",
    "    \n",
    "        X = np.vander(x_neighbours, order)\n",
    "        M = X.T @ X\n",
    "        v = X.T @ y_neighbours\n",
    "\n",
    "        a = np.linalg.solve(M, v)\n",
    "\n",
    "        res[n] = np.polyval(a, val)\n",
    "    \n",
    "    return res"
   ]
  },
  {
   "cell_type": "code",
   "execution_count": 15,
   "id": "63e1a364",
   "metadata": {},
   "outputs": [
    {
     "data": {
      "text/plain": [
       "array([6.8])"
      ]
     },
     "execution_count": 15,
     "metadata": {},
     "output_type": "execute_result"
    }
   ],
   "source": [
    "# usage example\n",
    "xi = np.array([-3, -2, -1, 0, 1, 2, 3]) \n",
    "yi = np.array([-4, -1, 3, 1, 7, 7, 8])\n",
    "\n",
    "savgol_curvefit(xi, yi, x=np.array([2]), deg=1, window=2.5)"
   ]
  },
  {
   "cell_type": "markdown",
   "id": "9a80b56b",
   "metadata": {},
   "source": [
    "# 3) Discrete Fourier Transform and Cosine Transform\n",
    "\n",
    "Sinusoid general form:\n",
    "\n",
    "$$\n",
    "y(x) = \\sum_i a_i \\cos ( 2\\pi f_i x) + b_i \\sin ( 2\\pi f_i x)\n",
    "$$\n",
    "\n",
    "\n",
    "**Periodic signals**\n",
    "\n",
    "An interval over which the signal repeats once is a **cycle** with a duration $T$. The density of cycles per unit of time is the signal's **frequency** $f$.\n",
    "\n",
    "The slowest repeating signal that is captured by the measurement interval of the total length $L$ goes through one cycle, thus $T = L$. The next slowest is $T = \\frac{L}{2}$, etc.\n",
    "\n",
    "$ f = \\frac{1}{T}$ <-> $ T = \\frac{1}{f}$ <--> also: $T = \\frac{1}{f_{max}}$\n",
    "\n",
    "**Gibb's phenomenon** can occur when there are few sinusoidal components. Jumps decrease as the sinusoidal components increase.\n",
    "\n",
    "**Amplitude**: $A_i = \\sqrt{a_i^2 + b_i^2}$. The spectrum shows which frequenceis are dominant in a signal.\n",
    "\n",
    "The **sampling period** $t_s$ denoted the equal spacing between successive samples.\n",
    "\n",
    "The **sampling frequency** $f_s$ equals the number of samples that is taken per unit of time.\n",
    "\n",
    "$f_s = \\frac{1}{t_s}$ <-> $t_s = \\frac{1}{f_s}$\n",
    "\n",
    "$L = n \\cdot t_s$ <-> $ t_s = \\frac{L}{n}$ <-> $n = \\frac{L}{t_s}$\n",
    "\n",
    "$n = L \\cdot f_s$ <-> $ f_s = \\frac{n}{L}$ <-> $L = \\frac{n}{f_s}$\n",
    "\n",
    "**Sinusoid properties**:\n",
    "- At $f=0$, the cosine component represents a contant function. $a_0$ represents a vertical shift/bias. \n",
    "- At $f=0$, the sine component represents a zero function. $b_0$ does not contribute.\n",
    "- At $f=\\frac{1}{2}f_s$, the sine component represents a zero function. $b_n/2$ does not contribute.\n",
    "- When the frequency $f$ of the cosine is beyond half the sampling frequency, the frequency of the sampled points decreases again. Same for sine, but its phase is shifted by $\\pi$.\n",
    "\n",
    "The higher frequencies are said to be [aliased](https://en.wikipedia.org/wiki/Aliasing) to the lower frequency range. It casues different signals to become indistinguisable when sampled.\n",
    "\n",
    "$f_{Ny} = \\frac{1}{2}f_s = \\frac{1}{2t_s} = \\frac{n}{2L}$"
   ]
  },
  {
   "cell_type": "markdown",
   "id": "dec16d92",
   "metadata": {},
   "source": [
    "**i) Discrete Fourier Transform: converting to frequency domain**"
   ]
  },
  {
   "cell_type": "code",
   "execution_count": 16,
   "id": "bfa3c5b6",
   "metadata": {},
   "outputs": [],
   "source": [
    "months = np.arange(12)\n",
    "temps = np.array([2.5,  2.9,  5.5,  8.9,  12.4, 15.1,\n",
    "                  17.5, 17.2, 14.2, 10.2, 6.1,  3.3])"
   ]
  },
  {
   "cell_type": "code",
   "execution_count": 18,
   "id": "fd32df6e",
   "metadata": {},
   "outputs": [
    {
     "data": {
      "image/png": "[encoded data removed]",
      "text/plain": [
       "<Figure size 432x288 with 1 Axes>"
      ]
     },
     "metadata": {
      "needs_background": "light"
     },
     "output_type": "display_data"
    }
   ],
   "source": [
    "n = temps.size\n",
    "\n",
    "# returns (n/2)+1 if n is even\n",
    "# returns (n+1)/2 if odd\n",
    "coef = np.fft.rfft(temps, norm='forward')\n",
    "\n",
    "# if even, Nyquist coincides with last element of the array.\n",
    "# if odd, all frequencies lie below Nyquist\n",
    "if n % 2 == 0:\n",
    "    coef[1:-1] = 2.0 * np.conj(coef[1:-1])\n",
    "else:\n",
    "    coef[1:] = 2.0 * np.conj(coef[1:])\n",
    "\n",
    "# a[0] equals the mean\n",
    "a, b = np.real(coef), np.imag(coef)\n",
    "\n",
    "# return the frequencies.\n",
    "f = np.fft.rfftfreq(temps.size, 1.0)\n",
    "\n",
    "# Showing spectrum\n",
    "spectrum = (a * a + b * b)\n",
    "\n",
    "plt.axhline(0.0, color='k', lw=0.5)\n",
    "plt.stem(f, spectrum, basefmt='None')\n",
    "plt.xlabel('Frequency [cyc/month]'); plt.ylabel('Amplitude [°C]')\n",
    "plt.title('Amplitude spectrum')\n",
    "plt.show()"
   ]
  },
  {
   "cell_type": "code",
   "execution_count": null,
   "id": "4620f2d0",
   "metadata": {},
   "outputs": [],
   "source": [
    "# Custom function\n",
    "def fourier_transform(yi):\n",
    "    \"\"\"\n",
    "    EQUIVALENT TO fft.rfft\n",
    "    \n",
    "    a, b = fourier_transform(yi).\n",
    "    Real-valued Fourier transform that determines the\n",
    "    coefficients of the Fourier series for a given\n",
    "    signal y. The coefficients of the cosine terms are\n",
    "    returned in the array a; those of the sine terms\n",
    "    in the array b. Frequencies start at zero and do\n",
    "    not exceed the Nyquist frequency.\n",
    "    yi     = {y1,y2,...,xn}\n",
    "    \"\"\"\n",
    "    n = len(yi)\n",
    "    \n",
    "    a = np.zeros((n-1))\n",
    "    b = np.zeros((n-1))\n",
    "\n",
    "    # zero frequency\n",
    "    a[0] = 1/n * np.sum(yi)\n",
    "\n",
    "    b[0] = 0\n",
    "    b[-1] = 0\n",
    "    \n",
    "    # if size is even\n",
    "    if n % 2 == 0:\n",
    "        m = int(n/2)\n",
    "        \n",
    "        for i in range(n):\n",
    "            for j in range(1, m):\n",
    "                # coefficient a_j\n",
    "                a[j] += (yi[i] * np.cos(2 * np.pi * ((i * j) / n)))\n",
    "\n",
    "                # coefficient b_j\n",
    "                b[j] += (yi[i] * np.sin(2 * np.pi * ((i * j) / n)))\n",
    "\n",
    "\n",
    "            # nyquist frequency\n",
    "            a[-1] += (yi[i] * np.cos(np.pi * i))\n",
    "            \n",
    "        \n",
    "        \n",
    "        a[1:-1] *= 2/n\n",
    "        b[1:-1] *= 2/n\n",
    "        a[-1] *= 1/n\n",
    "        \n",
    "        return a, b\n",
    "    else:\n",
    "        m = (int((n-1)/2))\n",
    "        for i in range(n):\n",
    "            for j in range(1, m+1):\n",
    "                a[j] += (yi[i] * np.cos(2 * np.pi * ((i * j) / n)))\n",
    "                b[j] += (yi[i] * np.sin(2 * np.pi * ((i * j) / n)))\n",
    "                \n",
    "        a[1:] *= 2/n\n",
    "        b[1:] *= 2/n\n",
    "\n",
    "        return a, b"
   ]
  },
  {
   "cell_type": "markdown",
   "id": "da2b06c3",
   "metadata": {},
   "source": [
    "**ii) Trigonometric regression**\n",
    "\n",
    "General function:\n",
    "\n",
    "$$\n",
    "y(x) = Y + A \\cdot \\cos \\left( 2 \\pi f x - \\varphi \\right)\n",
    "$$\n",
    "\n",
    "that is characterized by\n",
    "\n",
    "* a [frequency](https://en.wikipedia.org/wiki/Frequency) $f$\n",
    "\n",
    "* an [amplitude](https://en.wikipedia.org/wiki/Amplitude) $A$\n",
    "\n",
    "* a horizontal [phase](https://en.wikipedia.org/wiki/Phase_(waves)) shift $\\varphi$\n",
    "\n",
    "* a vertical shift or [bias](https://en.wikipedia.org/wiki/DC_bias) $Y$\n"
   ]
  },
  {
   "cell_type": "code",
   "execution_count": 20,
   "id": "a50cbcdb",
   "metadata": {},
   "outputs": [],
   "source": [
    "def trig_curvefit(xi, yi, x, period):\n",
    "    \"\"\"y = trig_curvefit(xi, yi, x, period).\n",
    "    Trigonometric curve fitting method that fits a sinusoid\n",
    "    with a given period through data points {xi,yi},\n",
    "    evaluated at arguments x.\n",
    "    xi     = {x1,x2,...,xn}\n",
    "    yi     = {y1,y2,...,xn}\n",
    "    x      = arguments x\n",
    "    period = sinusoidal period\n",
    "    \"\"\"\n",
    "    if xi.size != yi.size:\n",
    "        raise ValueError('xi and yi must have the same length')\n",
    "\n",
    "    f = 1/period\n",
    "\n",
    "    xi = xi.astype('float64')\n",
    "    yi = yi.astype('float64')\n",
    "\n",
    "    X = np.vstack((np.ones(xi.size), np.cos(2 * np.pi * f * xi), np.sin(2 * np.pi * f * xi))).T\n",
    "\n",
    "    M = X.T @ X\n",
    "    v = X.T @ yi\n",
    "\n",
    "    a = np.linalg.solve(M, v)\n",
    "\n",
    "    y = a[0] + a[1] * np.cos(2 * np.pi * f * x) + a[2] * np.sin(2 * np.pi * f * x)\n",
    "        \n",
    "    return y"
   ]
  },
  {
   "cell_type": "code",
   "execution_count": 23,
   "id": "8fd29616",
   "metadata": {},
   "outputs": [
    {
     "data": {
      "image/png": "[encoded data removed]",
      "text/plain": [
       "<Figure size 432x288 with 1 Axes>"
      ]
     },
     "metadata": {
      "needs_background": "light"
     },
     "output_type": "display_data"
    }
   ],
   "source": [
    "xi = np.arange(12)\n",
    "yi = np.array([2.5,  2.9,  5.5,  8.9,  12.4, 15.1,\n",
    "                  17.5, 17.2, 14.2, 10.2, 6.1,  3.3])\n",
    "\n",
    "x = np.linspace(0, 11, 101)\n",
    "y = trig_curvefit(xi, yi, x, 12)\n",
    "\n",
    "plt.axhline(0.0, color='k', lw=0.5)\n",
    "plt.plot(xi, yi, 'o:k')\n",
    "plt.plot(x, y)\n",
    "plt.xlabel('Month'); plt.ylabel('Temperature [°C]')\n",
    "plt.title('Monthly temperature in Groningen')\n",
    "plt.xticks(months)\n",
    "plt.show()"
   ]
  },
  {
   "cell_type": "markdown",
   "id": "bdb9f5c8",
   "metadata": {},
   "source": [
    "**iii) Discrete Cosine Transform**\n",
    "\n",
    "The fourier transform is sensitive to sudden jumps, because of **Gibb's phenomenon**. Thus, use discrete cosine transform.\n",
    "\n",
    "Only the cosine terms in a Fourier series are even function.\n",
    "\n",
    "$$\n",
    "A_i = \\sqrt{a_i^2} = |a_i|\n",
    "$$\n"
   ]
  },
  {
   "cell_type": "code",
   "execution_count": 25,
   "id": "4bc76451",
   "metadata": {},
   "outputs": [
    {
     "data": {
      "image/png": "[encoded data removed]",
      "text/plain": [
       "<Figure size 432x288 with 1 Axes>"
      ]
     },
     "metadata": {
      "needs_background": "light"
     },
     "output_type": "display_data"
    }
   ],
   "source": [
    "from scipy.fft import dct\n",
    "\n",
    "x = np.arange(25) * np.pi / 24.0\n",
    "y = np.cos(x)\n",
    "\n",
    "# if even\n",
    "a = dct(y, norm='forward', type=1)\n",
    "a[1:-1] *= 2.0\n",
    "\n",
    "def dctfreq(n, d=1.0):\n",
    "    \"\"\"Return the Discrete Cosine Transform sample frequencies.\n",
    "    For information about parameters and return values, please\n",
    "    consult help(rfftfreq).\n",
    "    \"\"\"\n",
    "    return np.fft.rfftfreq(2 * (n - 1), d)\n",
    "\n",
    "f = dctfreq(len(x), np.pi / 24.0)\n",
    "spectrum = np.abs(a)\n",
    "\n",
    "plt.axhline(0.0, color='k', lw=0.5)\n",
    "plt.stem(f, spectrum, basefmt='None')\n",
    "plt.xlabel('$f$'); plt.ylabel('$A$')\n",
    "plt.title('Amplitude spectrum')\n",
    "plt.axis((-0.1, 4.0, -0.05, 1.05))\n",
    "plt.show()"
   ]
  },
  {
   "cell_type": "code",
   "execution_count": 26,
   "id": "e181b321",
   "metadata": {},
   "outputs": [
    {
     "data": {
      "image/png": "[encoded data removed]",
      "text/plain": [
       "<Figure size 432x288 with 1 Axes>"
      ]
     },
     "metadata": {
      "needs_background": "light"
     },
     "output_type": "display_data"
    }
   ],
   "source": [
    "# Custom\n",
    "def cosine_transform(yi):\n",
    "    \"\"\"a = cosine_transform(yi).\n",
    "    Type-I discrete cosine transform that determines\n",
    "    the coefficients of the cosine series for a given\n",
    "    signal y. The coefficients are returned in the\n",
    "    array a. Frequencies start at zero and end at the\n",
    "    Nyquist frequency.\n",
    "    yi     = {y1,y2,...,xn}\n",
    "    \"\"\"\n",
    "    # extend the signal \n",
    "    y_extended = np.concatenate((yi[:-1], yi[:0:-1]))\n",
    "    # retrieve coeficients \n",
    "    coeficients_a_b = np.fft.rfft(y_extended, norm='forward')\n",
    "    # multiply all coeficients except the first and last. (number of samples is always even)\n",
    "    coeficients_a_b[1:-1] = 2.0 * np.conj(coeficients_a_b[1:-1])\n",
    "    # obtain only the a coeficients\n",
    "    a_coeficients = np.real(coeficients_a_b)\n",
    "\n",
    "    return a_coeficients\n",
    "\n",
    "x = np.arange(25) * np.pi / 24.0\n",
    "y = np.cos(x)\n",
    "\n",
    "a = cosine_transform(y)\n",
    "n = y.size\n",
    "\n",
    "f = np.fft.rfftfreq(2 * (n-1), np.pi/24.0)\n",
    "spectrum = np.abs(a)\n",
    "\n",
    "plt.axhline(0.0, color='k', lw=0.5)\n",
    "plt.stem(f, spectrum, basefmt='None')\n",
    "plt.xlabel('$f$'); plt.ylabel('$A$')\n",
    "plt.title('Amplitude spectrum')\n",
    "plt.axis((-0.1, 4.0, -0.05, 1.05))\n",
    "plt.show()"
   ]
  },
  {
   "cell_type": "markdown",
   "id": "f1e7e836",
   "metadata": {},
   "source": [
    "#### iv) Fourier filtering\n",
    "A filter removes unwanted features from a function. This is done in the frequency domain.\n",
    "\n",
    "Use `np.irfft()` to reconstruct the original signal.\n",
    "\n",
    "`scipy.fft.idct(..., type=1)`"
   ]
  },
  {
   "cell_type": "code",
   "execution_count": null,
   "id": "7f528411",
   "metadata": {},
   "outputs": [],
   "source": [
    "def obtain_amplitude_values(y_values, sampling_period = 1):\n",
    "    '''\n",
    "    this function takes an array of y values (sampled from a signal)\n",
    "    \n",
    "    y_values: array-like shape containing sampled values\n",
    "    \n",
    "    sampling_period: period of sampling\n",
    "    \n",
    "    returns: \n",
    "                frequencies: array of frequencies obtained from fourier transform\n",
    "                \n",
    "                spectrum   : array of amplitudes correlation to the frequencies\n",
    "\n",
    "    '''\n",
    "    # obtain the coeficients using fast fourier transform\n",
    "    coef = np.fft.rfft(y_values, norm='forward')\n",
    "    \n",
    "    # correct for shortcomings by multiplying values by 2 and taking the complex conjugate\n",
    "    if len(y_values) % 2 == 0:\n",
    "        coef[1:-1] = 2.0 * np.conj(coef[1:-1])\n",
    "    else:\n",
    "        coef[1:] = 2.0 * np.conj(coef[1:])\n",
    "    # obtain a and b from coeficients\n",
    "    a, b = np.real(coef), np.imag(coef)\n",
    "    \n",
    "    # obtain frequencies from fourier transfrom\n",
    "    frequencies = np.fft.rfftfreq(len(y_values), sampling_period)\n",
    "    \n",
    "    # obtain the amplitude corresponding to a frequency\n",
    "    spectrum = np.sqrt(a * a + b * b)\n",
    "    \n",
    "    return frequencies, spectrum\n",
    "\n",
    "def plot_amplitude_spectrum(frequencies, amplitudes, name = None, xlim = None, ylim = None):\n",
    "    '''\n",
    "    make stemplot using the frequencies and their corresponding amplitude spectrum.\n",
    "    \n",
    "    frequencies: array with frequencies obtained by fft\n",
    "    \n",
    "    amplitudes: array with amplitudes obtained by fft\n",
    "    \n",
    "    name: string containing name to be added above the plot next to 'Amplitude spectrum'\n",
    "    \n",
    "    xlim: list of values in between which the x-axis is to be limited i.e. ([0, 10])\n",
    "    '''\n",
    "    title = 'Amplitude spectrum '\n",
    "    if name:\n",
    "        title = title + name\n",
    "    plt.axhline(0.0, color='k', lw=0.5)\n",
    "    plt.stem(frequencies, amplitudes, basefmt='None')\n",
    "    plt.xlabel('Frequency'); plt.ylabel('Amplitude')\n",
    "    plt.title(title); plt.xlim(xlim); plt.ylim(ylim)\n",
    "    plt.show()\n",
    "    return()\n",
    "\n",
    "def my_inverse_fft(yi, f_max = None, f_min = None,kind = 'low', sampling_period = 1):\n",
    "    '''\n",
    "    yi = array of y values\n",
    "    \n",
    "    f_max = max cut off frequency\n",
    "    \n",
    "    f_min = min cut off frequency\n",
    "    \n",
    "    kind = ['low']/'high'/'stop'/'pass' \n",
    "            > low = low-pass filter\n",
    "            > high = high-pass filter\n",
    "            > stop = band-stop filter\n",
    "            > pass = band-pass filter\n",
    "    \n",
    "    sampling_period = space between measurements on the x-axis \n",
    "    \n",
    "    return: filtered y values\n",
    "    '''\n",
    "\n",
    "    if kind == 'pass' and f_max == None or kind == 'pass' and f_min == None:\n",
    "        raise ValueError('please fill in both f_max and f_min')\n",
    "    if kind == 'stop' and f_max == None or kind == 'stop' and f_min == None:\n",
    "        raise ValueError('please fill in both f_max and f_min')\n",
    "    if kind == 'low' and f_max == None:\n",
    "        raise ValueError('you should select a f_max')\n",
    "#         f_max = f_min\n",
    "    if kind == 'high' and f_min == None:\n",
    "        raise ValueError('You should select a f_min')\n",
    "#         f_min = f_max\n",
    "    \n",
    "    # obtain frequencies and coeficients \n",
    "    coef = np.fft.rfft(yi, norm='forward')\n",
    "    # check for even number of samples (Fny is last entry in array)\n",
    "    if yi.size % 2 == 0:\n",
    "        coef[1:-1] = 2.0 * np.conj(coef[1:-1])\n",
    "    \n",
    "    # check for odd number of samples, no Fny in the array\n",
    "    elif yi.size % 2 == 1:\n",
    "        coef[1::] = 2.0 * np.conj(coef[1::])\n",
    "    # obtain alpha and beta\n",
    "    a, b = np.real(coef), np.imag(coef)\n",
    "    # obtain the frequencies corresponding to the amplitudes.\n",
    "    frequencies = np.fft.rfftfreq(yi.size, sampling_period)\n",
    "    spectrum_ori = np.sqrt(a * a + b * b)\n",
    "    \n",
    "    if kind == 'low': # filter out high frequencies\n",
    "        a *= (frequencies < f_max); b *= (frequencies < f_max)\n",
    "\n",
    "    elif kind == 'high': # filter out low frequencies\n",
    "        a *= (frequencies > f_min); b *= (frequencies > f_min)\n",
    "    elif kind == 'pass':\n",
    "        a *= (frequencies < f_max)\n",
    "        a *= (frequencies > f_min)\n",
    "\n",
    "        b *= (frequencies < f_max)\n",
    "        b *= (frequencies > f_min)\n",
    "    elif kind == 'stop':\n",
    "        a *= (frequencies < f_min)\n",
    "        a *= (frequencies > f_max)\n",
    "\n",
    "        b *= (frequencies < f_min)\n",
    "        b *= (frequencies > f_max)\n",
    "        \n",
    "    # reconstruct the 'one' complex coeficient number\n",
    "    coef_filtered = a + 1j * b\n",
    "    \n",
    "    if yi.size % 2 == 0:\n",
    "        coef_filtered[1:-1] = 0.5 * np.conj(coef_filtered[1:-1])\n",
    "    \n",
    "    # check for odd number of samples, no Fny in the array\n",
    "    elif yi.size % 2 == 1:\n",
    "        coef_filtered[1::] = 0.5 * np.conj(coef_filtered[1::])\n",
    "    \n",
    "    filtered_y = np.fft.irfft(coef_filtered, norm='forward')\n",
    "    \n",
    "    return filtered_y\n",
    "    "
   ]
  },
  {
   "cell_type": "code",
   "execution_count": null,
   "id": "9833ba54",
   "metadata": {},
   "outputs": [],
   "source": [
    "# Corresponding frequency domain\n",
    "# n = odd\n",
    "coef = np.fft.rfft(y, norm='forward')\n",
    "coef[1:] = 2.0 * np.conj(coef[1:])\n",
    "a, b = np.real(coef), np.imag(coef)\n",
    "spectrum = np.sqrt(a*a + b*b)\n",
    "f = np.fft.rfftfreq(y.size, ts)\n",
    "\n",
    "# 2) filtering\n",
    "\n",
    "# band-stop filter\n",
    "a *= (f < 49.9) | (f > 50.2)\n",
    "b *= (f < 49.9) | (f > 50.2)\n",
    "\n",
    "fmin = 1\n",
    "a *= (f > fmin)\n",
    "b *= (f > fmin)\n",
    "\n",
    "\n",
    "# 3) Reconstruct (from frequency to time domain)\n",
    "spectrum = np.sqrt(a*a + b*b)\n",
    "coef = a + 1j * b\n",
    "coef[1:] = np.conj(coef[1:]) / 2\n",
    "cleaned = np.fft.irfft(coef, n=n, norm='forward')"
   ]
  },
  {
   "cell_type": "markdown",
   "id": "2d118db5",
   "metadata": {},
   "source": [
    "#### v) Fourier Interpolation\n",
    "The lowest non-zero frequency always corresponds with one cycle across the entire signal, i.e. $f_1 = \\frac{1}{L}$. Therefore, $\\Delta f=\\frac{1}{L}$.\n",
    "\n",
    "\n",
    "$\n",
    "L = \\frac{1}{\\Delta f}$ <-> $\\Delta f \\cdot L = 1$\n",
    "\n",
    "Therefore:\n",
    "\n",
    "* A more *extensive* sampling corresponds with a *denser* spectrum\n",
    "\n",
    "Duality between time and frequency domains:\n",
    "$$\n",
    "t_s \\cdot f_\\text{Ny} = \\frac{1}{2}\n",
    "$$\n",
    "\n",
    "$$\n",
    "\\Delta f \\cdot L = 1\n",
    "$$\n",
    "\n",
    "The same can be achieved with the type-I discrete cosine transform.\n",
    "\n",
    "The result differs from the discrete Fourier transform in its assumptions about the boundary condition: Fourier transforms assume that a signal wraps around, whereas the cosine transform assumes the signal is extended by reflection.\n",
    "\n",
    "`scipy.signal` contains `resample(original_data, desired_datapoints)`"
   ]
  },
  {
   "cell_type": "code",
   "execution_count": 30,
   "id": "acb85f12",
   "metadata": {},
   "outputs": [],
   "source": [
    "def fourier_resample(yi, n):\n",
    "    \"\"\"\n",
    "    For cosine resample just replace np.fft.X with dct and idct\n",
    "    from scipy.fft import dct, idct\n",
    "    \n",
    "    y = fourier_resample(yi, n).\n",
    "    Fourier interpolation method that resamples a given\n",
    "    signal yi to n new points. The first element of the\n",
    "    returned signal y coincides with the first element\n",
    "    of the provided signal yi.\n",
    "    yi     = {y1,y2,...,xn}\n",
    "    n      = desired number of points\n",
    "    \"\"\"\n",
    "    coef = np.fft.rfft(yi, norm='forward')\n",
    "    # coef = dct(yi, type=1, norm='forward')\n",
    "    if yi.size % 2 == 0:\n",
    "        coef[1:-1] *= 2.0\n",
    "    else:\n",
    "        coef[1:] *= 2.0\n",
    "    if n > yi.size:\n",
    "        coef = np.concatenate((coef, np.zeros(n - yi.size)))\n",
    "    else:\n",
    "        coef = coef[:n // 2 + 1]\n",
    "    if n % 2 == 0:\n",
    "        coef[1:-1] /= 2.0\n",
    "    else:\n",
    "        coef[1:] /= 2.0\n",
    "    y = np.fft.irfft(coef, n, norm='forward')\n",
    "    # y = idct(coef, type=1, n=n, norm='forward')\n",
    "    return y"
   ]
  },
  {
   "cell_type": "code",
   "execution_count": 35,
   "id": "fdab4d0a",
   "metadata": {},
   "outputs": [
    {
     "data": {
      "image/png": "[encoded data removed]",
      "text/plain": [
       "<Figure size 432x288 with 1 Axes>"
      ]
     },
     "metadata": {
      "needs_background": "light"
     },
     "output_type": "display_data"
    }
   ],
   "source": [
    "from scipy.signal import resample\n",
    "\n",
    "n = 12\n",
    "xi = np.arange(n)\n",
    "yi = np.array([75, 50, 55, 45, 60, 65, 85, 80, 75, 70, 70, 80])\n",
    "\n",
    "plt.plot(xi, yi, ':ok', label='original')\n",
    "\n",
    "samples = [6, 12, 36]\n",
    "scalars = [0.5, 1, 3]\n",
    "for sample, scalar in zip(samples, scalars):  \n",
    "    x = np.arange(n*scalar) / scalar\n",
    "#     y = fourier_resample(yi, sample)\n",
    "    y = resample(yi, sample)\n",
    "    plt.plot(x, y, ':o', label=f'$n={sample}$', markersize=3)\n",
    "    \n",
    "plt.title('Monthly precipitation in Groningen')\n",
    "plt.xlabel('Month')\n",
    "plt.ylabel('Precipitation [mm]')\n",
    "\n",
    "plt.ylim([0, 100])\n",
    "\n",
    "plt.legend()\n",
    "plt.show()"
   ]
  },
  {
   "cell_type": "markdown",
   "id": "e21e795b",
   "metadata": {},
   "source": [
    "#### vi) Fourier Smoothing\n",
    "Therefore, a promising approach to reduce measurement noise is to [smoothen](https://en.wikipedia.org/wiki/Smoothing) the signal by applying low-pass filtering."
   ]
  },
  {
   "cell_type": "code",
   "execution_count": null,
   "id": "9b5ee390",
   "metadata": {},
   "outputs": [],
   "source": [
    "def fourier_smooth(yi, d, fmax, shape='boxcar'):\n",
    "    \"\"\"y = fourier_smooth(yi, d, fmax, shape='boxcar').\n",
    "    Smoothing function that low-pass filters a signal\n",
    "    yi with sampling time d. Spectral components with\n",
    "    frequencies above a cut-off fmax are blocked, while\n",
    "    lower frequencies are multiplied with a transfer\n",
    "    function with a given shape.\n",
    "    yi     = {y1,y2,...,xn}\n",
    "    d      = sampling time\n",
    "    fmax   = low-pass cut-off frequency\n",
    "    shape  = transfer function shape (default 'boxcar')\n",
    "    \"\"\"\n",
    "    from scipy.signal import get_window\n",
    "    \n",
    "    # spectrum = coeficients a and b\n",
    "    spectrum = np.fft.rfft(yi, norm='forward')\n",
    "    \n",
    "    # width of the window\n",
    "    width = int(fmax * yi.size * d) + 1\n",
    "    \n",
    "    # create array full of zero's the same size as the yi array\n",
    "    transfer = np.zeros(spectrum.size)\n",
    "    \n",
    "    try:\n",
    "        window = get_window(shape, 2 * width - 1, False)\n",
    "    except:\n",
    "        print('cannot run this shape')\n",
    "        window = get_window('boxcar', 2 * width - 1, False)\n",
    "    \n",
    "    # fill the transfer function from 0 to width with the window values\n",
    "    transfer[:width] = window[width - 1:]\n",
    "    \n",
    "    # multiply the coefficients with the transfer function\n",
    "    spectrum *= transfer\n",
    "    y = np.fft.irfft(spectrum, yi.size, norm='forward')\n",
    "        \n",
    "    return y"
   ]
  },
  {
   "cell_type": "code",
   "execution_count": null,
   "id": "03b13639",
   "metadata": {},
   "outputs": [],
   "source": [
    "new_y = fourier_smooth(y, d = sampling_freq, fmax = fmax, shape='triangle')"
   ]
  },
  {
   "cell_type": "markdown",
   "id": "fdbda2c1",
   "metadata": {},
   "source": [
    "#### vi) short-term Fourier Transform\n",
    "**Chirp**: a signal that increases/decreases in frequency over time.\n",
    "\n",
    "number of samples in $ w = \\frac{w}{t_s} = \\frac{1}{\\Delta f * t_s}$\n",
    "\n",
    "number of samples in $\\Delta x = \\frac{\\Delta x}{t_s}$ or in scipy $\\Delta X = (nperseg - noverlap) * t_s$"
   ]
  },
  {
   "cell_type": "code",
   "execution_count": 40,
   "id": "0d10dd34",
   "metadata": {},
   "outputs": [
    {
     "data": {
      "image/png": "[encoded data removed]",
      "text/plain": [
       "<Figure size 432x288 with 2 Axes>"
      ]
     },
     "metadata": {
      "needs_background": "light"
     },
     "output_type": "display_data"
    }
   ],
   "source": [
    "from scipy.signal import spectrogram\n",
    "\n",
    "x = np.linspace(0.0, 2.0, 1000, endpoint=False)\n",
    "totalphase = 2.0 * np.pi * np.cumsum(30.0 - 20.0 * np.cos(3.0 * np.pi * x)) * 2.0e-3\n",
    "amplitude = 2.0 + np.sin(3.0 * np.pi * x)\n",
    "y = amplitude * np.sin(totalphase)\n",
    "\n",
    "L = 2.0\n",
    "n = 1000\n",
    "ts = L / n\n",
    "fs = 1 / ts\n",
    "\n",
    "coef = np.fft.rfft(y, n=n, norm='forward')\n",
    "coef[1:-1] = 2.0 * np.conj(coef[1:-1])\n",
    "a, b = np.real(coef), np.imag(coef)\n",
    "\n",
    "spectrum = np.sqrt(a*a + b*b)\n",
    "f = np.fft.rfftfreq(n, ts)\n",
    "\n",
    "fss, xs, stft = spectrogram(\n",
    "    y,\n",
    "    fs=fs,\n",
    "    nperseg=50,\n",
    "    noverlap=40,\n",
    "    window='tukey',\n",
    "    detrend=False,\n",
    "    scaling='spectrum',\n",
    "    mode='magnitude'\n",
    ")\n",
    "stft[1:-1, :] *= 2.0\n",
    "\n",
    "plt.pcolormesh(xs, fss, stft, shading='nearest')\n",
    "plt.xlabel('$x$'); plt.ylabel('$f$')\n",
    "plt.title('Spectrogram')\n",
    "cbar = plt.colorbar(); cbar.ax.set_title('$A$')\n",
    "plt.show()"
   ]
  },
  {
   "cell_type": "markdown",
   "id": "740cc056",
   "metadata": {},
   "source": [
    "# Misc"
   ]
  },
  {
   "cell_type": "code",
   "execution_count": 15,
   "id": "cca2a316",
   "metadata": {},
   "outputs": [],
   "source": [
    "def P(n):\n",
    "    \"\"\"Square pyramidal numbers\"\"\"\n",
    "    t = 0\n",
    "    for k in range(n+1):\n",
    "        t += k**2\n",
    "        \n",
    "    return t\n",
    "\n",
    "def Fibonacci(n):\n",
    "    \"\"\"Fibonacci sequence\"\"\"\n",
    "    if n < 0:\n",
    "        print(\"Incorrect input\")\n",
    "    elif n == 0:\n",
    "        return 0\n",
    "    elif n == 1 or n == 2:\n",
    "        return 1\n",
    " \n",
    "    else:\n",
    "        return Fibonacci(n-1) + Fibonacci(n-2)\n",
    "    \n",
    "def factorial(n):\n",
    "    total = 1\n",
    "    for k in range(1, n+1):\n",
    "        total *= k\n",
    "        \n",
    "    return total\n",
    "\n",
    "def C(n):\n",
    "    \"\"\"Catalan numbers\"\"\"\n",
    "    if n == 0 or n == 1:\n",
    "        return 1\n",
    "    \n",
    "    total = 1\n",
    "    for k in range(2, n+1):\n",
    "        total *= (n+k)/k\n",
    "        \n",
    "    return total\n"
   ]
  },
  {
   "cell_type": "code",
   "execution_count": null,
   "id": "5a070d4d",
   "metadata": {},
   "outputs": [],
   "source": []
  }
 ],
 "metadata": {
  "kernelspec": {
   "display_name": "Python 3 (ipykernel)",
   "language": "python",
   "name": "python3"
  },
  "language_info": {
   "codemirror_mode": {
    "name": "ipython",
    "version": 3
   },
   "file_extension": ".py",
   "mimetype": "text/x-python",
   "name": "python",
   "nbconvert_exporter": "python",
   "pygments_lexer": "ipython3",
   "version": "3.8.12"
  }
 },
 "nbformat": 4,
 "nbformat_minor": 5
}
